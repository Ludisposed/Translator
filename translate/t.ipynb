{
 "cells": [
  {
   "cell_type": "code",
   "execution_count": 32,
   "metadata": {},
   "outputs": [],
   "source": [
    "import tensorflow as tf\n",
    "import numpy as np\n",
    "import helper"
   ]
  },
  {
   "cell_type": "code",
   "execution_count": 191,
   "metadata": {
    "collapsed": true
   },
   "outputs": [],
   "source": [
    "def batch(inputs, max_sequence_length=None):\n",
    "    sequence_lengths = [len(seq) for seq in inputs]\n",
    "    batch_size = len(inputs)\n",
    "\n",
    "    if max_sequence_length is None:\n",
    "        max_sequence_length = max(sequence_lengths)\n",
    "\n",
    "    inputs_batch_major = np.zeros(shape=[batch_size, max_sequence_length], dtype=np.float32)\n",
    "\n",
    "    for i, seq in enumerate(inputs):\n",
    "        for j, element in enumerate(seq):\n",
    "            inputs_batch_major[i,j] = element\n",
    "\n",
    "    inputs_time_major = inputs_batch_major.swapaxes(0,1)\n",
    "\n",
    "    return inputs_time_major, sequence_lengths\n",
    "\n",
    "def random_sequences(length_from, length_to, vocab_lower, vocab_upper, batch_size):\n",
    "    if length_from > length_to:\n",
    "        raise ValueError('length_from > length_to')\n",
    "\n",
    "    def random_length():\n",
    "        if length_from == length_to:\n",
    "            return length_from\n",
    "        return np.random.randint(length_from, length_to + 1)\n",
    "\n",
    "    while True:\n",
    "        yield [\n",
    "        np.random.randint(low = vocab_lower, high=vocab_upper, size=random_length()).tolist()\n",
    "        for _ in range(batch_size)\n",
    "        ]"
   ]
  },
  {
   "cell_type": "code",
   "execution_count": 207,
   "metadata": {
    "collapsed": true
   },
   "outputs": [],
   "source": [
    "batch_size = 1\n",
    "batches = random_sequences(length_from=1, length_to=1,\n",
    "                           vocab_lower=2, vocab_upper=10,\n",
    "                           batch_size=batch_size)"
   ]
  },
  {
   "cell_type": "code",
   "execution_count": 208,
   "metadata": {
    "collapsed": true
   },
   "outputs": [],
   "source": [
    "xs = tf.placeholder(shape = (None, None), dtype = tf.float32)\n",
    "ys = tf.placeholder(shape = (None, None), dtype = tf.float32)"
   ]
  },
  {
   "cell_type": "code",
   "execution_count": 209,
   "metadata": {},
   "outputs": [],
   "source": [
    "def next_feed():\n",
    "    batch = next(batches)\n",
    "    encoder_inputs_, encoder_input_lengths_ = helper.batch(batch)\n",
    "    decoder_targets_, _ = helper.batch(\n",
    "        [sequence for sequence in batch]\n",
    "    )\n",
    "    return {\n",
    "        xs: encoder_inputs_,\n",
    "        ys: decoder_targets_\n",
    "    }"
   ]
  },
  {
   "cell_type": "code",
   "execution_count": 210,
   "metadata": {
    "collapsed": true
   },
   "outputs": [],
   "source": [
    "def add_layer(inputs, in_size, out_size, activation_function=None):\n",
    "\tWeights = tf.Variable(tf.random_normal([in_size,out_size]))\n",
    "\tbiases = tf.Variable(tf.zeros([1,out_size]) + 0.1)\n",
    "\tWx_plus_b = tf.add(tf.matmul(inputs, Weights), biases)\n",
    "\tif activation_function is None:\n",
    "\t\toutputs = Wx_plus_b\n",
    "\telse:\n",
    "\t\toutputs = activation_function(Wx_plus_b)\n",
    "\treturn outputs"
   ]
  },
  {
   "cell_type": "code",
   "execution_count": 211,
   "metadata": {
    "collapsed": true
   },
   "outputs": [],
   "source": [
    "x_data = np.linspace(-1,1,500)[:,np.newaxis]\n",
    "noise = np.random.normal(0,0.05,x_data.shape)\n",
    "y_data = np.square(x_data) - 0.5 + noise"
   ]
  },
  {
   "cell_type": "code",
   "execution_count": 212,
   "metadata": {},
   "outputs": [],
   "source": [
    "l1 = add_layer(xs, 1, 10, activation_function = tf.nn.relu)\n",
    "prediction = add_layer(l1, 10, 1, activation_function = None)"
   ]
  },
  {
   "cell_type": "code",
   "execution_count": 213,
   "metadata": {},
   "outputs": [],
   "source": [
    "loss = tf.reduce_mean(tf.reduce_sum(tf.square(ys - prediction), reduction_indices = [1]))\n",
    "\n",
    "train_step = tf.train.AdamOptimizer().minimize(loss)"
   ]
  },
  {
   "cell_type": "code",
   "execution_count": 214,
   "metadata": {
    "collapsed": true
   },
   "outputs": [],
   "source": [
    "sess = tf.InteractiveSession()\n",
    "\n",
    "sess.run(tf.global_variables_initializer())"
   ]
  },
  {
   "cell_type": "code",
   "execution_count": 215,
   "metadata": {},
   "outputs": [
    {
     "name": "stdout",
     "output_type": "stream",
     "text": [
      "575.57\n",
      "727.713\n",
      "23.4731\n",
      "15.1034\n",
      "26.1245\n",
      "219.337\n",
      "38.671\n",
      "24.0531\n",
      "23.0175\n",
      "0.0847609\n",
      "10.8155\n",
      "1.2021\n",
      "5.43152\n",
      "0.152596\n",
      "0.204137\n",
      "0.0785588\n",
      "0.608908\n",
      "1.51474\n",
      "1.80304\n",
      "1.457\n",
      "2.91177\n",
      "0.792187\n",
      "0.443708\n",
      "0.455385\n",
      "1.48905\n",
      "0.606025\n",
      "0.000848917\n",
      "0.00291197\n",
      "0.466491\n",
      "0.173891\n"
     ]
    }
   ],
   "source": [
    "for i in range(3000):\n",
    "    fd = next_feed()\n",
    "    sess.run(train_step, fd)\n",
    "    if i % 100 == 0:\n",
    "        print(sess.run(loss, fd))"
   ]
  },
  {
   "cell_type": "code",
   "execution_count": null,
   "metadata": {
    "collapsed": true
   },
   "outputs": [],
   "source": []
  }
 ],
 "metadata": {
  "kernelspec": {
   "display_name": "Python 3",
   "language": "python",
   "name": "python3"
  },
  "language_info": {
   "codemirror_mode": {
    "name": "ipython",
    "version": 3
   },
   "file_extension": ".py",
   "mimetype": "text/x-python",
   "name": "python",
   "nbconvert_exporter": "python",
   "pygments_lexer": "ipython3",
   "version": "3.6.0"
  }
 },
 "nbformat": 4,
 "nbformat_minor": 2
}
